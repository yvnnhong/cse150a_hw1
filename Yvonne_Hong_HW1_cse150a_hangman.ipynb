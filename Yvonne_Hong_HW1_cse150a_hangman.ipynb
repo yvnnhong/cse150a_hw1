{
  "cells": [
    {
      "cell_type": "markdown",
      "metadata": {
        "id": "view-in-github",
        "colab_type": "text"
      },
      "source": [
        "<a href=\"https://colab.research.google.com/github/yvnnhong/cse150a_hw1/blob/main/Yvonne_Hong_HW1_cse150a_hangman.ipynb\" target=\"_parent\"><img src=\"https://colab.research.google.com/assets/colab-badge.svg\" alt=\"Open In Colab\"/></a>"
      ]
    },
    {
      "cell_type": "code",
      "execution_count": null,
      "metadata": {
        "id": "yBQ63gvA5jtf",
        "colab": {
          "base_uri": "https://localhost:8080/"
        },
        "outputId": "225d9643-edb2-4370-d040-f0d8f3807683"
      },
      "outputs": [
        {
          "output_type": "stream",
          "name": "stdout",
          "text": [
            "Cloning into 'hw1'...\n",
            "remote: Enumerating objects: 55, done.\u001b[K\n",
            "remote: Counting objects: 100% (55/55), done.\u001b[K\n",
            "remote: Compressing objects: 100% (28/28), done.\u001b[K\n",
            "remote: Total 55 (delta 26), reused 55 (delta 26), pack-reused 0 (from 0)\u001b[K\n",
            "Receiving objects: 100% (55/55), 723.52 KiB | 2.55 MiB/s, done.\n",
            "Resolving deltas: 100% (26/26), done.\n"
          ]
        }
      ],
      "source": [
        "# If cloning is needed -- i.e., if hangman.py and word counts are not already\n",
        "# available in file, you can run this\n",
        "!git clone https://github.com/ucsd-cse150a-w25/hw1.git\n",
        "!cp hw1/hangman.py hangman.py\n",
        "!cp hw1/hw1_word_counts_05.txt hw1_word_counts_05.txt"
      ]
    },
    {
      "cell_type": "code",
      "execution_count": null,
      "metadata": {
        "id": "iXY1kkjC5jtg",
        "colab": {
          "base_uri": "https://localhost:8080/"
        },
        "outputId": "be946b16-31a1-47e0-924d-ed7a5abe6ba1"
      },
      "outputs": [
        {
          "metadata": {
            "tags": null
          },
          "name": "stdout",
          "output_type": "stream",
          "text": [
            "\n",
            "\n",
            "  +---+\n",
            "      |\n",
            "      |\n",
            "      |\n",
            "     ===\n",
            "\n",
            "Word: _ _ _ _ _\n",
            "Tried letters: \n"
          ]
        }
      ],
      "source": [
        "from hangman import hangman_game\n",
        "\n",
        "# Play the game by yourself\n",
        "hangman_game()"
      ]
    },
    {
      "cell_type": "code",
      "execution_count": null,
      "metadata": {
        "id": "EGV1JVbL5jth"
      },
      "outputs": [],
      "source": [
        "import random\n",
        "#this is the random model which doesnt reference the corpus thingy\n",
        "def random_inference(\n",
        "    letters_tried: set[str],\n",
        "    word_pattern: list[str],\n",
        "    word_counts: dict[str, int]\n",
        ") -> str:\n",
        "    '''\n",
        "    Random inference for playing hangman. This should be a simple method which returns a letter\n",
        "    that is NOT in letters_tried but any other letter, at random.\n",
        "\n",
        "    Hint: use the random.choice method\n",
        "    '''\n",
        "    # TODO: Implement random inference code to guess hangman\n",
        "    #convert the English alphabet into a set\n",
        "    alphabet = set(\"ABCDEFGHIJKLMNOPQRSTUVWXYZ\")\n",
        "    unguessed_letters = alphabet - letters_tried\n",
        "    guess = random.choice(list(unguessed_letters))\n",
        "    return guess\n",
        "\n",
        "hangman_game(random_inference)"
      ]
    },
    {
      "cell_type": "code",
      "execution_count": null,
      "metadata": {
        "id": "CGmWBdsXM4cN"
      },
      "outputs": [],
      "source": [
        "def bayesian_inference(\n",
        "    letters_tried: set[str],\n",
        "    word_pattern: list[str],\n",
        "    word_counts: dict[str, int]\n",
        ") -> str:\n",
        "    '''\n",
        "    Bayesian inference method for playing hangman. The parameters given are as follows:\n",
        "\n",
        "    - letters_tried (set[str]): A set of strings which consist of all the letters that have already\n",
        "        been tried. For example, if 'A', 'E' has been guessed, `letters_tried = {'A', 'E'}`\n",
        "    - word_pattern (list[str]): A list of single characters that describe the current guess state.\n",
        "        For example, if the hangman state is _AB__, `word_pattern = ['_', 'A', 'B', '_', '_']`\n",
        "    - word_counts (dict[str, int]): The word counts dictionary which contains all possible 5 letter\n",
        "        words in our hangman game and their respective counts. For example, a key value pair could\n",
        "        be 'AARON': 413.\n",
        "\n",
        "    Return type: a single character string as your next best guess.\n",
        "    '''\n",
        "    # TODO: Implement inference code to play hangman optimally\n",
        "    candidate_words = {}\n",
        "    for word, count in word_counts.items():\n",
        "      is_possible = True\n",
        "      for i, letter in enumerate(word):\n",
        "        if word_pattern[i] != '':\n",
        "          if word_pattern[i] != letter:\n",
        "            is_possible = False\n",
        "            break\n",
        "\n",
        "        elif letter in letters_tried:\n",
        "          is_possible = False\n",
        "          break\n",
        "\n",
        "      if is_possible:\n",
        "        candidate_words[word] = count\n",
        "\n",
        "    #compute posterior probabilities\n",
        "    total_count = sum(candidate_words.values())\n",
        "    posterior = {}\n",
        "    for word, count in candidate_words.items():\n",
        "      posterior[word] = count / total_count\n",
        "\n",
        "    letter_probabilities = {letter: 0 for letter in 'ABCDEFGHIJKLMNOPQRSTUVWXYZ'}\n",
        "\n",
        "    for word, prob in posterior.items():\n",
        "      for i, letter in enumerate(word):\n",
        "        if word_pattern[i] == '_' and letter not in letters_tried:\n",
        "          letter_probabilities[letter] += prob\n",
        "\n",
        "    best_letter = None\n",
        "    max_probability = -1\n",
        "\n",
        "    for letter, probability in letter_probabilities.items():\n",
        "        if letter not in letters_tried and probability > max_probability:\n",
        "            best_letter = letter\n",
        "            max_probability = probability\n",
        "\n",
        "    return best_letter\n",
        "\n",
        "\n",
        "# Run the game\n",
        "hangman_game(bayesian_inference)"
      ]
    },
    {
      "cell_type": "code",
      "execution_count": null,
      "metadata": {
        "id": "TsXF-J035jth"
      },
      "outputs": [],
      "source": [
        "from typing import Optional, Callable\n",
        "import random #i added this\n",
        "from tqdm import tqdm\n",
        "\n",
        "def benchmark(\n",
        "    inference: Optional[Callable],\n",
        "    num_runs: int = 1000,\n",
        "    seed: int = 0\n",
        ") -> None:\n",
        "    '''\n",
        "    Benchmark method for testing out the bayesian inference method. The parameters given are:\n",
        "\n",
        "    - inference: The function that should match the bayesian_inference() method above.\n",
        "    - seed: The seed to pass into the hangman_game function.\n",
        "\n",
        "    Return type: none.\n",
        "\n",
        "    Print the accuracy out of num_runs. If the function throws an error, it should count as a fail.\n",
        "    '''\n",
        "    # TODO: Implement benchmark testing for a given function\n",
        "    # Hint: use `random.seed(seed)` ONCE at the start\n",
        "    # Hint: pass `interactive = False` into the hangman_game function to run faster without outputs.\n",
        "    # Optional: use the `tqdm` module to keep track of the evaluation progress.\n",
        "\n",
        "    random.seed(seed)\n",
        "    successful_runs = 0\n",
        "\n",
        "    for _ in tqdm(range(num_runs), desc=\"Running Benchmark\", unit=\"game\"):\n",
        "      try:\n",
        "        hangman_game(inference, interactive=False)\n",
        "        successful_runs +=1\n",
        "      except Exception as e:\n",
        "        print(f\"Error: {e}\")\n",
        "        continue\n",
        "\n",
        "    accuracy = successful_runs/num_runs * 100\n",
        "    print(f\"Accuracy over {num_runs} runs: {accuracy: .2f}%\")\n",
        "\n",
        "    if(accuracy >= 93):\n",
        "      print(f\"Benchmark passed with {accuracy:.2f}% accuracy.\")\n",
        "    else:\n",
        "      print(f\"Benchmark failed with {accuracy:.2f}% accuracy.\")\n",
        "\n",
        "\n",
        "\n",
        "\n",
        "benchmark(random_inference)\n",
        "benchmark(bayesian_inference)"
      ]
    },
    {
      "cell_type": "code",
      "source": [
        "!git clone https://github.com/ucsd-cse150a-w25/hw1.git"
      ],
      "metadata": {
        "colab": {
          "base_uri": "https://localhost:8080/"
        },
        "id": "j5Z58Z8g7JIu",
        "outputId": "c3f6db61-1a6a-4224-a575-a8594ca4c622"
      },
      "execution_count": null,
      "outputs": [
        {
          "output_type": "stream",
          "name": "stdout",
          "text": [
            "Cloning into 'hw1'...\n",
            "remote: Enumerating objects: 55, done.\u001b[K\n",
            "remote: Counting objects: 100% (55/55), done.\u001b[K\n",
            "remote: Compressing objects: 100% (43/43), done.\u001b[K\n",
            "remote: Total 55 (delta 26), reused 28 (delta 11), pack-reused 0 (from 0)\u001b[K\n",
            "Receiving objects: 100% (55/55), 723.52 KiB | 5.28 MiB/s, done.\n",
            "Resolving deltas: 100% (26/26), done.\n"
          ]
        }
      ]
    },
    {
      "cell_type": "code",
      "source": [
        "!ls hw1"
      ],
      "metadata": {
        "colab": {
          "base_uri": "https://localhost:8080/"
        },
        "id": "onDbdJro7LHi",
        "outputId": "a4c6e18a-cf2e-463e-9bbd-2e03a43d18d4"
      },
      "execution_count": null,
      "outputs": [
        {
          "output_type": "stream",
          "name": "stdout",
          "text": [
            "cse150a_hangman.ipynb  hangman.py\t       LICENSE\t  source.zip\n",
            "CSE150A_HW1.pdf        hw1_word_counts_05.txt  README.md\n"
          ]
        }
      ]
    },
    {
      "cell_type": "code",
      "source": [
        "!cp hw1/hangman.py hangman.py\n",
        "!cp hw1/hw1_word_counts_05.txt hw1_word_counts_05.txt"
      ],
      "metadata": {
        "id": "047UdM3r7QW0"
      },
      "execution_count": null,
      "outputs": []
    }
  ],
  "metadata": {
    "colab": {
      "provenance": [],
      "include_colab_link": true
    },
    "kernelspec": {
      "display_name": "Python 3",
      "name": "python3"
    },
    "language_info": {
      "codemirror_mode": {
        "name": "ipython",
        "version": 3
      },
      "file_extension": ".py",
      "mimetype": "text/x-python",
      "name": "python",
      "nbconvert_exporter": "python",
      "pygments_lexer": "ipython3",
      "version": "3.11.0"
    }
  },
  "nbformat": 4,
  "nbformat_minor": 0
}